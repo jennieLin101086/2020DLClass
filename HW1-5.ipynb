{
 "cells": [
  {
   "cell_type": "markdown",
   "metadata": {},
   "source": [
    "三行字串，每一行字串由一個英文單字以及一個數字組成，數字為原語句該有的順序。數字為 1~3"
   ]
  },
  {
   "cell_type": "code",
   "execution_count": 1,
   "metadata": {},
   "outputs": [
    {
     "name": "stdout",
     "output_type": "stream",
     "text": [
      "pretty 2 \n",
      "good 3 \n",
      "That's 1\n",
      "That's pretty good.\n"
     ]
    }
   ],
   "source": [
    "a = input()\n",
    "b = input()\n",
    "c = input()\n",
    "  \n",
    "first = a.split(' ')\n",
    "second = b.split(' ')\n",
    "third = c.split(' ')\n",
    "  \n",
    "if first[1] < second[1] and first[1] < third[1]:\n",
    "    if second[1] < third[1]:\n",
    "        print((\"{} {} {}.\").format(first[0], second[0],third[0]))\n",
    "    else:\n",
    "        print((\"{} {} {}.\").format(first[0],third[0],second[0]))\n",
    "\n",
    "elif second[1] < first[1] and second[1] < third[1]:\n",
    "    if first[1] < third[1]:\n",
    "        print((\"{} {} {}.\").format(second[0], first[0],third[0]))\n",
    "    else:\n",
    "        print((\"{} {} {}.\").format(second[0],third[0],first[0]))\n",
    "elif third[1] < first[1] and third[1] < second[1]:\n",
    "    if first[1] < second[1]:\n",
    "        print((\"{} {} {}.\").format(third[0], first[0],second[0]))\n",
    "    else:\n",
    "        print((\"{} {} {}.\").format(third[0],second[0],first[0]))"
   ]
  },
  {
   "cell_type": "code",
   "execution_count": null,
   "metadata": {},
   "outputs": [],
   "source": []
  }
 ],
 "metadata": {
  "kernelspec": {
   "display_name": "Python 3",
   "language": "python",
   "name": "python3"
  },
  "language_info": {
   "codemirror_mode": {
    "name": "ipython",
    "version": 3
   },
   "file_extension": ".py",
   "mimetype": "text/x-python",
   "name": "python",
   "nbconvert_exporter": "python",
   "pygments_lexer": "ipython3",
   "version": "3.7.6"
  }
 },
 "nbformat": 4,
 "nbformat_minor": 4
}
