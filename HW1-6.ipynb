{
 "cells": [
  {
   "cell_type": "markdown",
   "metadata": {},
   "source": [
    "輸出共四行，依序為：\n",
    "\n",
    "數學及格但英文不及格的名單\n",
    "數學不及格但英文及格的名單\n",
    "兩科都及格的名單\n",
    "至少一科及格的人數\n",
    "\n",
    "若一行包含多個名字，請依字母排序輸出"
   ]
  },
  {
   "cell_type": "markdown",
   "metadata": {},
   "source": [
    "# 運用Set"
   ]
  },
  {
   "cell_type": "code",
   "execution_count": 3,
   "metadata": {},
   "outputs": [
    {
     "name": "stdout",
     "output_type": "stream",
     "text": [
      "Amy,Bob,Woody\n",
      "Amy,Jerry,Kevin,Bob\n",
      "\n",
      "輸出：\n",
      "Woody\n",
      "Kevin,Jerry\n",
      "Amy,Bob\n",
      "5\n"
     ]
    }
   ],
   "source": [
    "mathPass = input()\n",
    "engPass = input()\n",
    "\n",
    "a = mathPass.split(',')\n",
    "b = engPass.split(',')\n",
    "\n",
    "c = set(a) - set(b)\n",
    "d = set(b) - set(a)\n",
    "e = set(a) & set(b)\n",
    "f = set(a) | set(b)\n",
    "\n",
    "\n",
    "print()\n",
    "print(\"輸出：\")\n",
    "print(','.join(c) )\n",
    "print(','.join(d) )\n",
    "print(','.join(e) )\n",
    "print(len(f))"
   ]
  },
  {
   "cell_type": "code",
   "execution_count": null,
   "metadata": {},
   "outputs": [],
   "source": []
  }
 ],
 "metadata": {
  "kernelspec": {
   "display_name": "Python 3",
   "language": "python",
   "name": "python3"
  },
  "language_info": {
   "codemirror_mode": {
    "name": "ipython",
    "version": 3
   },
   "file_extension": ".py",
   "mimetype": "text/x-python",
   "name": "python",
   "nbconvert_exporter": "python",
   "pygments_lexer": "ipython3",
   "version": "3.7.6"
  }
 },
 "nbformat": 4,
 "nbformat_minor": 4
}
