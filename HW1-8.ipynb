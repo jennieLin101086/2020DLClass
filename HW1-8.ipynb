{
 "cells": [
  {
   "cell_type": "markdown",
   "metadata": {},
   "source": [
    "反轉單字順序後的句子"
   ]
  },
  {
   "cell_type": "code",
   "execution_count": 3,
   "metadata": {},
   "outputs": [
    {
     "name": "stdout",
     "output_type": "stream",
     "text": [
      "My name is Michele\n",
      "\n",
      "output:\n",
      "Michele is name My \n"
     ]
    }
   ],
   "source": [
    "data = input()\n",
    " \n",
    "a = data.split(' ')\n",
    "result = ''\n",
    "\n",
    "for i in range(len(a)):\n",
    "    result += a[len(a)-1-i]\n",
    "    result += \" \"\n",
    "print()\n",
    "print(\"output:\")\n",
    "print(result)"
   ]
  }
 ],
 "metadata": {
  "kernelspec": {
   "display_name": "Python 3",
   "language": "python",
   "name": "python3"
  },
  "language_info": {
   "codemirror_mode": {
    "name": "ipython",
    "version": 3
   },
   "file_extension": ".py",
   "mimetype": "text/x-python",
   "name": "python",
   "nbconvert_exporter": "python",
   "pygments_lexer": "ipython3",
   "version": "3.7.6"
  }
 },
 "nbformat": 4,
 "nbformat_minor": 4
}
