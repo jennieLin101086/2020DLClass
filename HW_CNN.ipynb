{
  "nbformat": 4,
  "nbformat_minor": 0,
  "metadata": {
    "kernelspec": {
      "name": "python3",
      "display_name": "Python 3"
    },
    "language_info": {
      "codemirror_mode": {
        "name": "ipython",
        "version": 3
      },
      "file_extension": ".py",
      "mimetype": "text/x-python",
      "name": "python",
      "nbconvert_exporter": "python",
      "pygments_lexer": "ipython3",
      "version": "3.7.6"
    },
    "colab": {
      "name": "HW_CNN.ipynb",
      "provenance": [],
      "collapsed_sections": []
    },
    "accelerator": "GPU"
  },
  "cells": [
    {
      "cell_type": "code",
      "metadata": {
        "id": "ITMUWDtsJ-mw",
        "colab_type": "code",
        "colab": {
          "base_uri": "https://localhost:8080/",
          "height": 88
        },
        "outputId": "9d7b5055-c66c-433e-8641-d44b2554df1d"
      },
      "source": [
        "import numpy as np\n",
        "import pandas as pd\n",
        "from sklearn.model_selection import train_test_split\n",
        "from sklearn.metrics import classification_report\n",
        "from tensorflow.python import keras\n",
        "from tensorflow.python.keras.models import Sequential\n",
        "from tensorflow.python.keras.layers import Dense, Flatten, Conv2D, Dropout, MaxPooling2D\n",
        "from IPython.display import SVG\n",
        "from keras.utils.vis_utils import model_to_dot\n",
        "from keras.utils import plot_model\n",
        "import seaborn as sns\n",
        "import matplotlib.pyplot as plt\n",
        "from keras.utils import np_utils\n",
        "from tensorflow.keras.datasets import fashion_mnist"
      ],
      "execution_count": 1,
      "outputs": [
        {
          "output_type": "stream",
          "text": [
            "Using TensorFlow backend.\n",
            "/usr/local/lib/python3.6/dist-packages/statsmodels/tools/_testing.py:19: FutureWarning: pandas.util.testing is deprecated. Use the functions in the public API at pandas.testing instead.\n",
            "  import pandas.util.testing as tm\n"
          ],
          "name": "stderr"
        }
      ]
    },
    {
      "cell_type": "code",
      "metadata": {
        "id": "vl0Y_up5J-m2",
        "colab_type": "code",
        "colab": {
          "base_uri": "https://localhost:8080/",
          "height": 255
        },
        "outputId": "3f415734-39c8-4fb8-d9ac-41dc59f0bb19"
      },
      "source": [
        "(x_train, y_train),(x_test, y_test) = fashion_mnist.load_data()\n",
        "print(\"The shape of Xtrain_images is \",x_train.shape)\n",
        "print(\"The shape of Xtrain_labels is \",x_train.shape)\n",
        "print(\"The shape of Ytrain_images is \",y_train.shape)\n",
        "\n",
        "print(\"The shape of Xtest_images is \",x_test.shape)\n",
        "print(\"The length of Xtest_labels is \",len(x_test))\n",
        "y_train[0]"
      ],
      "execution_count": 2,
      "outputs": [
        {
          "output_type": "stream",
          "text": [
            "Downloading data from https://storage.googleapis.com/tensorflow/tf-keras-datasets/train-labels-idx1-ubyte.gz\n",
            "32768/29515 [=================================] - 0s 0us/step\n",
            "Downloading data from https://storage.googleapis.com/tensorflow/tf-keras-datasets/train-images-idx3-ubyte.gz\n",
            "26427392/26421880 [==============================] - 0s 0us/step\n",
            "Downloading data from https://storage.googleapis.com/tensorflow/tf-keras-datasets/t10k-labels-idx1-ubyte.gz\n",
            "8192/5148 [===============================================] - 0s 0us/step\n",
            "Downloading data from https://storage.googleapis.com/tensorflow/tf-keras-datasets/t10k-images-idx3-ubyte.gz\n",
            "4423680/4422102 [==============================] - 0s 0us/step\n",
            "The shape of Xtrain_images is  (60000, 28, 28)\n",
            "The shape of Xtrain_labels is  (60000, 28, 28)\n",
            "The shape of Ytrain_images is  (60000,)\n",
            "The shape of Xtest_images is  (10000, 28, 28)\n",
            "The length of Xtest_labels is  10000\n"
          ],
          "name": "stdout"
        },
        {
          "output_type": "execute_result",
          "data": {
            "text/plain": [
              "9"
            ]
          },
          "metadata": {
            "tags": []
          },
          "execution_count": 2
        }
      ]
    },
    {
      "cell_type": "code",
      "metadata": {
        "id": "ehprBAIaJ-m9",
        "colab_type": "code",
        "colab": {}
      },
      "source": [
        "x_train = x_train.reshape(60000,28,28,1)\n",
        "x_test = x_test.reshape(10000,28,28,1)"
      ],
      "execution_count": 0,
      "outputs": []
    },
    {
      "cell_type": "code",
      "metadata": {
        "id": "aHR068u3J-nC",
        "colab_type": "code",
        "colab": {}
      },
      "source": [
        "y_train = np_utils.to_categorical(y_train,10)\n",
        "y_test = np_utils.to_categorical(y_test,10)"
      ],
      "execution_count": 0,
      "outputs": []
    },
    {
      "cell_type": "code",
      "metadata": {
        "id": "jvAP5UtIJ-nG",
        "colab_type": "code",
        "colab": {}
      },
      "source": [
        "x_train = x_train/255\n",
        "x_test = x_test/255"
      ],
      "execution_count": 0,
      "outputs": []
    },
    {
      "cell_type": "code",
      "metadata": {
        "id": "R1znI37gJ-nJ",
        "colab_type": "code",
        "colab": {}
      },
      "source": [
        "# Model\n",
        "from tensorflow.keras.layers import Dense, Flatten, Dropout, BatchNormalization\n",
        "model = Sequential()\n",
        "# Add convolution 2D\n",
        "model.add(Conv2D(32, kernel_size=(3, 3),\n",
        "                 activation='relu',\n",
        "                padding='same',\n",
        "                 kernel_initializer='he_normal',\n",
        "                 input_shape=(28,28,1)))\n",
        "model.add(BatchNormalization())\n",
        "model.add(MaxPooling2D((2, 2)))\n",
        "model.add(Conv2D(64, \n",
        "                padding='same',\n",
        "                 kernel_size=(3, 3), \n",
        "                 activation='relu'))\n",
        "model.add(BatchNormalization())\n",
        "model.add(MaxPooling2D(pool_size=(2, 2)))\n",
        "model.add(Conv2D(128, (3, 3),  padding='same', activation='relu'))\n",
        "model.add(BatchNormalization())\n",
        "model.add(Flatten())\n",
        "model.add(Dense(128, activation='relu'))\n",
        "model.add(Dense(10, activation='softmax'))\n",
        "\n",
        "\n",
        "model.compile(loss=keras.losses.categorical_crossentropy,\n",
        "              optimizer='adam',\n",
        "              metrics=['accuracy'])"
      ],
      "execution_count": 0,
      "outputs": []
    },
    {
      "cell_type": "code",
      "metadata": {
        "id": "JEpjVt87J-nN",
        "colab_type": "code",
        "colab": {
          "base_uri": "https://localhost:8080/",
          "height": 527
        },
        "outputId": "345a9fd6-9ab0-489f-9d92-12c3648dceba"
      },
      "source": [
        "model.summary()"
      ],
      "execution_count": 7,
      "outputs": [
        {
          "output_type": "stream",
          "text": [
            "Model: \"sequential\"\n",
            "_________________________________________________________________\n",
            "Layer (type)                 Output Shape              Param #   \n",
            "=================================================================\n",
            "conv2d (Conv2D)              (None, 28, 28, 32)        320       \n",
            "_________________________________________________________________\n",
            "batch_normalization (BatchNo (None, 28, 28, 32)        128       \n",
            "_________________________________________________________________\n",
            "max_pooling2d (MaxPooling2D) (None, 14, 14, 32)        0         \n",
            "_________________________________________________________________\n",
            "conv2d_1 (Conv2D)            (None, 14, 14, 64)        18496     \n",
            "_________________________________________________________________\n",
            "batch_normalization_1 (Batch (None, 14, 14, 64)        256       \n",
            "_________________________________________________________________\n",
            "max_pooling2d_1 (MaxPooling2 (None, 7, 7, 64)          0         \n",
            "_________________________________________________________________\n",
            "conv2d_2 (Conv2D)            (None, 7, 7, 128)         73856     \n",
            "_________________________________________________________________\n",
            "batch_normalization_2 (Batch (None, 7, 7, 128)         512       \n",
            "_________________________________________________________________\n",
            "flatten (Flatten)            (None, 6272)              0         \n",
            "_________________________________________________________________\n",
            "dense (Dense)                (None, 128)               802944    \n",
            "_________________________________________________________________\n",
            "dense_1 (Dense)              (None, 10)                1290      \n",
            "=================================================================\n",
            "Total params: 897,802\n",
            "Trainable params: 897,354\n",
            "Non-trainable params: 448\n",
            "_________________________________________________________________\n"
          ],
          "name": "stdout"
        }
      ]
    },
    {
      "cell_type": "code",
      "metadata": {
        "id": "kwwdmqUuJ-nQ",
        "colab_type": "code",
        "colab": {}
      },
      "source": [
        "TEST_SIZE = 0.2\n",
        "# RANDOM_STATE = 2018\n",
        "#Model\n",
        "NO_EPOCHS = 50\n",
        "BATCH_SIZE = 128\n"
      ],
      "execution_count": 0,
      "outputs": []
    },
    {
      "cell_type": "code",
      "metadata": {
        "id": "yTruCQXqJ-nT",
        "colab_type": "code",
        "colab": {
          "base_uri": "https://localhost:8080/",
          "height": 1000
        },
        "outputId": "63984dc7-16be-4377-a59d-e3b321ef2841"
      },
      "source": [
        "train_model = model.fit(x_train, y_train,\n",
        "                  batch_size=BATCH_SIZE,\n",
        "                  epochs=NO_EPOCHS,\n",
        "                  verbose=1,\n",
        "                  validation_split=0.2)"
      ],
      "execution_count": 9,
      "outputs": [
        {
          "output_type": "stream",
          "text": [
            "Epoch 1/50\n",
            "375/375 [==============================] - 3s 8ms/step - loss: 0.3765 - accuracy: 0.8662 - val_loss: 0.3932 - val_accuracy: 0.8534\n",
            "Epoch 2/50\n",
            "375/375 [==============================] - 3s 7ms/step - loss: 0.2307 - accuracy: 0.9146 - val_loss: 0.2628 - val_accuracy: 0.9047\n",
            "Epoch 3/50\n",
            "375/375 [==============================] - 3s 7ms/step - loss: 0.1798 - accuracy: 0.9327 - val_loss: 0.2584 - val_accuracy: 0.9099\n",
            "Epoch 4/50\n",
            "375/375 [==============================] - 3s 7ms/step - loss: 0.1440 - accuracy: 0.9460 - val_loss: 0.2583 - val_accuracy: 0.9109\n",
            "Epoch 5/50\n",
            "375/375 [==============================] - 3s 7ms/step - loss: 0.1129 - accuracy: 0.9574 - val_loss: 0.2719 - val_accuracy: 0.9131\n",
            "Epoch 6/50\n",
            "375/375 [==============================] - 3s 7ms/step - loss: 0.0892 - accuracy: 0.9660 - val_loss: 0.2883 - val_accuracy: 0.9103\n",
            "Epoch 7/50\n",
            "375/375 [==============================] - 3s 7ms/step - loss: 0.0776 - accuracy: 0.9705 - val_loss: 0.3516 - val_accuracy: 0.9103\n",
            "Epoch 8/50\n",
            "375/375 [==============================] - 3s 7ms/step - loss: 0.0650 - accuracy: 0.9762 - val_loss: 0.3353 - val_accuracy: 0.9097\n",
            "Epoch 9/50\n",
            "375/375 [==============================] - 3s 7ms/step - loss: 0.0516 - accuracy: 0.9806 - val_loss: 0.3333 - val_accuracy: 0.9170\n",
            "Epoch 10/50\n",
            "375/375 [==============================] - 3s 7ms/step - loss: 0.0477 - accuracy: 0.9825 - val_loss: 0.3492 - val_accuracy: 0.9210\n",
            "Epoch 11/50\n",
            "375/375 [==============================] - 3s 7ms/step - loss: 0.0448 - accuracy: 0.9834 - val_loss: 0.3755 - val_accuracy: 0.9165\n",
            "Epoch 12/50\n",
            "375/375 [==============================] - 3s 7ms/step - loss: 0.0337 - accuracy: 0.9878 - val_loss: 0.4196 - val_accuracy: 0.9136\n",
            "Epoch 13/50\n",
            "375/375 [==============================] - 3s 7ms/step - loss: 0.0380 - accuracy: 0.9863 - val_loss: 0.4267 - val_accuracy: 0.9153\n",
            "Epoch 14/50\n",
            "375/375 [==============================] - 3s 7ms/step - loss: 0.0259 - accuracy: 0.9910 - val_loss: 0.4016 - val_accuracy: 0.9202\n",
            "Epoch 15/50\n",
            "375/375 [==============================] - 3s 7ms/step - loss: 0.0264 - accuracy: 0.9906 - val_loss: 0.4420 - val_accuracy: 0.9177\n",
            "Epoch 16/50\n",
            "375/375 [==============================] - 3s 7ms/step - loss: 0.0294 - accuracy: 0.9896 - val_loss: 0.4424 - val_accuracy: 0.9158\n",
            "Epoch 17/50\n",
            "375/375 [==============================] - 3s 7ms/step - loss: 0.0206 - accuracy: 0.9926 - val_loss: 0.5443 - val_accuracy: 0.9143\n",
            "Epoch 18/50\n",
            "375/375 [==============================] - 3s 7ms/step - loss: 0.0251 - accuracy: 0.9913 - val_loss: 0.4437 - val_accuracy: 0.9195\n",
            "Epoch 19/50\n",
            "375/375 [==============================] - 3s 7ms/step - loss: 0.0214 - accuracy: 0.9932 - val_loss: 0.5375 - val_accuracy: 0.9129\n",
            "Epoch 20/50\n",
            "375/375 [==============================] - 3s 7ms/step - loss: 0.0258 - accuracy: 0.9912 - val_loss: 0.4851 - val_accuracy: 0.9156\n",
            "Epoch 21/50\n",
            "375/375 [==============================] - 3s 7ms/step - loss: 0.0142 - accuracy: 0.9949 - val_loss: 0.5563 - val_accuracy: 0.9132\n",
            "Epoch 22/50\n",
            "375/375 [==============================] - 3s 7ms/step - loss: 0.0217 - accuracy: 0.9927 - val_loss: 0.5060 - val_accuracy: 0.9193\n",
            "Epoch 23/50\n",
            "375/375 [==============================] - 3s 7ms/step - loss: 0.0159 - accuracy: 0.9944 - val_loss: 0.4643 - val_accuracy: 0.9183\n",
            "Epoch 24/50\n",
            "375/375 [==============================] - 3s 7ms/step - loss: 0.0166 - accuracy: 0.9942 - val_loss: 0.5792 - val_accuracy: 0.9139\n",
            "Epoch 25/50\n",
            "375/375 [==============================] - 3s 7ms/step - loss: 0.0184 - accuracy: 0.9936 - val_loss: 0.5755 - val_accuracy: 0.9134\n",
            "Epoch 26/50\n",
            "375/375 [==============================] - 3s 7ms/step - loss: 0.0196 - accuracy: 0.9934 - val_loss: 0.5284 - val_accuracy: 0.9202\n",
            "Epoch 27/50\n",
            "375/375 [==============================] - 3s 7ms/step - loss: 0.0131 - accuracy: 0.9959 - val_loss: 0.5984 - val_accuracy: 0.9227\n",
            "Epoch 28/50\n",
            "375/375 [==============================] - 3s 7ms/step - loss: 0.0099 - accuracy: 0.9970 - val_loss: 0.5863 - val_accuracy: 0.9109\n",
            "Epoch 29/50\n",
            "375/375 [==============================] - 3s 7ms/step - loss: 0.0169 - accuracy: 0.9943 - val_loss: 0.6243 - val_accuracy: 0.9158\n",
            "Epoch 30/50\n",
            "375/375 [==============================] - 3s 7ms/step - loss: 0.0170 - accuracy: 0.9948 - val_loss: 0.5508 - val_accuracy: 0.9181\n",
            "Epoch 31/50\n",
            "375/375 [==============================] - 3s 7ms/step - loss: 0.0213 - accuracy: 0.9930 - val_loss: 0.5916 - val_accuracy: 0.9213\n",
            "Epoch 32/50\n",
            "375/375 [==============================] - 3s 7ms/step - loss: 0.0105 - accuracy: 0.9963 - val_loss: 0.5576 - val_accuracy: 0.9217\n",
            "Epoch 33/50\n",
            "375/375 [==============================] - 3s 7ms/step - loss: 0.0077 - accuracy: 0.9978 - val_loss: 0.5546 - val_accuracy: 0.9215\n",
            "Epoch 34/50\n",
            "375/375 [==============================] - 3s 7ms/step - loss: 0.0081 - accuracy: 0.9976 - val_loss: 0.6320 - val_accuracy: 0.9162\n",
            "Epoch 35/50\n",
            "375/375 [==============================] - 3s 7ms/step - loss: 0.0126 - accuracy: 0.9961 - val_loss: 0.6867 - val_accuracy: 0.9132\n",
            "Epoch 36/50\n",
            "375/375 [==============================] - 3s 7ms/step - loss: 0.0161 - accuracy: 0.9948 - val_loss: 0.6070 - val_accuracy: 0.9191\n",
            "Epoch 37/50\n",
            "375/375 [==============================] - 3s 7ms/step - loss: 0.0183 - accuracy: 0.9939 - val_loss: 0.5827 - val_accuracy: 0.9212\n",
            "Epoch 38/50\n",
            "375/375 [==============================] - 3s 7ms/step - loss: 0.0105 - accuracy: 0.9966 - val_loss: 0.6038 - val_accuracy: 0.9195\n",
            "Epoch 39/50\n",
            "375/375 [==============================] - 3s 7ms/step - loss: 0.0101 - accuracy: 0.9967 - val_loss: 0.6217 - val_accuracy: 0.9156\n",
            "Epoch 40/50\n",
            "375/375 [==============================] - 3s 7ms/step - loss: 0.0139 - accuracy: 0.9954 - val_loss: 0.6298 - val_accuracy: 0.9187\n",
            "Epoch 41/50\n",
            "375/375 [==============================] - 3s 7ms/step - loss: 0.0121 - accuracy: 0.9965 - val_loss: 0.6076 - val_accuracy: 0.9210\n",
            "Epoch 42/50\n",
            "375/375 [==============================] - 3s 7ms/step - loss: 0.0059 - accuracy: 0.9983 - val_loss: 0.6375 - val_accuracy: 0.9190\n",
            "Epoch 43/50\n",
            "375/375 [==============================] - 3s 7ms/step - loss: 0.0134 - accuracy: 0.9965 - val_loss: 0.6686 - val_accuracy: 0.9190\n",
            "Epoch 44/50\n",
            "375/375 [==============================] - 3s 7ms/step - loss: 0.0159 - accuracy: 0.9953 - val_loss: 0.7734 - val_accuracy: 0.9082\n",
            "Epoch 45/50\n",
            "375/375 [==============================] - 3s 7ms/step - loss: 0.0103 - accuracy: 0.9970 - val_loss: 0.6424 - val_accuracy: 0.9222\n",
            "Epoch 46/50\n",
            "375/375 [==============================] - 3s 7ms/step - loss: 0.0045 - accuracy: 0.9984 - val_loss: 0.6648 - val_accuracy: 0.9225\n",
            "Epoch 47/50\n",
            "375/375 [==============================] - 3s 7ms/step - loss: 0.0110 - accuracy: 0.9969 - val_loss: 0.6750 - val_accuracy: 0.9191\n",
            "Epoch 48/50\n",
            "375/375 [==============================] - 3s 7ms/step - loss: 0.0118 - accuracy: 0.9958 - val_loss: 0.7409 - val_accuracy: 0.9166\n",
            "Epoch 49/50\n",
            "375/375 [==============================] - 3s 7ms/step - loss: 0.0059 - accuracy: 0.9984 - val_loss: 0.7347 - val_accuracy: 0.9149\n",
            "Epoch 50/50\n",
            "375/375 [==============================] - 3s 7ms/step - loss: 0.0115 - accuracy: 0.9967 - val_loss: 0.7421 - val_accuracy: 0.9199\n"
          ],
          "name": "stdout"
        }
      ]
    },
    {
      "cell_type": "code",
      "metadata": {
        "id": "crO_oyA-J-nX",
        "colab_type": "code",
        "colab": {
          "base_uri": "https://localhost:8080/",
          "height": 350
        },
        "outputId": "8a0289b9-be28-4725-b962-3772c4437fa2"
      },
      "source": [
        "fig = plt.figure(figsize=(16,5))\n",
        "ax1 = fig.add_subplot(1,2,1)\n",
        "plt.plot(train_model.history[\"accuracy\"])\n",
        "#plt.plot(model_f_2_history.history[\"accuracy\"])\n",
        "plt.title(\"model training accuracy\")\n",
        "plt.ylabel(\"accuracy\")\n",
        "plt.xlabel(\"epoch\")\n",
        "plt.legend([\"model_f_history\",\"model_f_history+dropout\"])\n",
        "\n",
        "\n",
        "ax2 = fig.add_subplot(1,2,2)\n",
        "plt.plot(train_model.history[\"val_accuracy\"])\n",
        "#plt.plot(model_f_2_history.history[\"val_accuracy\"])\n",
        "plt.title(\"model validation accuracy\")\n",
        "plt.ylabel(\"accuracy\")\n",
        "plt.xlabel(\"epoch\")\n",
        "plt.legend([\"model_f_history\",\"model_f_history+regulization\"])\n",
        "plt.show()"
      ],
      "execution_count": 11,
      "outputs": [
        {
          "output_type": "display_data",
          "data": {
            "image/png": "[encoded data removed]",
            "text/plain": [
              "<Figure size 1152x360 with 2 Axes>"
            ]
          },
          "metadata": {
            "tags": [],
            "needs_background": "light"
          }
        }
      ]
    }
  ]
}