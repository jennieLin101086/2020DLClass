{
 "cells": [
  {
   "cell_type": "code",
   "execution_count": 47,
   "metadata": {},
   "outputs": [],
   "source": [
    "import pandas as pd\n",
    "import numpy as np"
   ]
  },
  {
   "cell_type": "code",
   "execution_count": 96,
   "metadata": {},
   "outputs": [],
   "source": [
    "filename = './datasets/hw0_data.dat'"
   ]
  },
  {
   "cell_type": "code",
   "execution_count": 435,
   "metadata": {},
   "outputs": [],
   "source": [
    "data = filename"
   ]
  },
  {
   "cell_type": "code",
   "execution_count": 436,
   "metadata": {},
   "outputs": [
    {
     "name": "stdout",
     "output_type": "stream",
     "text": [
      "1\n"
     ]
    }
   ],
   "source": [
    "index = int(input())"
   ]
  },
  {
   "cell_type": "markdown",
   "metadata": {},
   "source": [
    "1. 把dat檔變成csv\n",
    "2. 再用pandas調整欄位\n",
    "3. 最後再輸出txt檔"
   ]
  },
  {
   "cell_type": "code",
   "execution_count": 437,
   "metadata": {},
   "outputs": [],
   "source": [
    "import csv\n",
    "\n",
    "with open('./datasets/hw0_data.dat') as dat_file, open('./file.csv', 'w') as csv_file:\n",
    "    csv_writer = csv.writer(csv_file)\n",
    "\n",
    "    for line in dat_file:\n",
    "        row = [field.strip().lstrip(' , ') for field in line.split(' ')]           \n",
    "        csv_writer.writerow(row)"
   ]
  },
  {
   "cell_type": "code",
   "execution_count": 438,
   "metadata": {},
   "outputs": [],
   "source": [
    "import pandas as pd"
   ]
  },
  {
   "cell_type": "code",
   "execution_count": 439,
   "metadata": {},
   "outputs": [],
   "source": [
    "col_name = ['0','1','2','3','4','5','6','7','8','9','10']"
   ]
  },
  {
   "cell_type": "code",
   "execution_count": 440,
   "metadata": {},
   "outputs": [],
   "source": [
    "df = pd.read_csv(\"./file.csv\",\n",
    "                names = col_name, #只有這行 第一列資料會變成表頭，因此要加下一行代碼\n",
    "                header = None) #代表我不要表頭，我已經幫你新增了"
   ]
  },
  {
   "cell_type": "code",
   "execution_count": 441,
   "metadata": {},
   "outputs": [],
   "source": [
    "df.index = range(500)"
   ]
  },
  {
   "cell_type": "code",
   "execution_count": 442,
   "metadata": {},
   "outputs": [
    {
     "data": {
      "text/html": [
       "<div>\n",
       "<style scoped>\n",
       "    .dataframe tbody tr th:only-of-type {\n",
       "        vertical-align: middle;\n",
       "    }\n",
       "\n",
       "    .dataframe tbody tr th {\n",
       "        vertical-align: top;\n",
       "    }\n",
       "\n",
       "    .dataframe thead th {\n",
       "        text-align: right;\n",
       "    }\n",
       "</style>\n",
       "<table border=\"1\" class=\"dataframe\">\n",
       "  <thead>\n",
       "    <tr style=\"text-align: right;\">\n",
       "      <th></th>\n",
       "      <th>0</th>\n",
       "      <th>1</th>\n",
       "      <th>2</th>\n",
       "      <th>3</th>\n",
       "      <th>4</th>\n",
       "      <th>5</th>\n",
       "      <th>6</th>\n",
       "      <th>7</th>\n",
       "      <th>8</th>\n",
       "      <th>9</th>\n",
       "      <th>10</th>\n",
       "    </tr>\n",
       "  </thead>\n",
       "  <tbody>\n",
       "    <tr>\n",
       "      <th>0</th>\n",
       "      <td>4.115</td>\n",
       "      <td>5.020</td>\n",
       "      <td>-7.879</td>\n",
       "      <td>-11.780</td>\n",
       "      <td>2.004</td>\n",
       "      <td>-0.353</td>\n",
       "      <td>-0.735</td>\n",
       "      <td>3.561</td>\n",
       "      <td>2.441</td>\n",
       "      <td>-9.822</td>\n",
       "      <td>1</td>\n",
       "    </tr>\n",
       "    <tr>\n",
       "      <th>1</th>\n",
       "      <td>-3.557</td>\n",
       "      <td>0.997</td>\n",
       "      <td>2.932</td>\n",
       "      <td>7.672</td>\n",
       "      <td>5.430</td>\n",
       "      <td>-0.137</td>\n",
       "      <td>1.635</td>\n",
       "      <td>-5.190</td>\n",
       "      <td>-0.394</td>\n",
       "      <td>-7.667</td>\n",
       "      <td>1</td>\n",
       "    </tr>\n",
       "    <tr>\n",
       "      <th>2</th>\n",
       "      <td>6.417</td>\n",
       "      <td>5.878</td>\n",
       "      <td>5.066</td>\n",
       "      <td>-7.209</td>\n",
       "      <td>-6.953</td>\n",
       "      <td>7.639</td>\n",
       "      <td>-2.937</td>\n",
       "      <td>-1.023</td>\n",
       "      <td>3.963</td>\n",
       "      <td>-11.069</td>\n",
       "      <td>1</td>\n",
       "    </tr>\n",
       "    <tr>\n",
       "      <th>3</th>\n",
       "      <td>-2.247</td>\n",
       "      <td>6.532</td>\n",
       "      <td>6.437</td>\n",
       "      <td>2.293</td>\n",
       "      <td>6.302</td>\n",
       "      <td>2.187</td>\n",
       "      <td>3.429</td>\n",
       "      <td>-3.453</td>\n",
       "      <td>9.172</td>\n",
       "      <td>-4.548</td>\n",
       "      <td>1</td>\n",
       "    </tr>\n",
       "    <tr>\n",
       "      <th>4</th>\n",
       "      <td>3.708</td>\n",
       "      <td>5.834</td>\n",
       "      <td>3.676</td>\n",
       "      <td>-4.403</td>\n",
       "      <td>-5.296</td>\n",
       "      <td>9.080</td>\n",
       "      <td>-3.110</td>\n",
       "      <td>-3.294</td>\n",
       "      <td>3.189</td>\n",
       "      <td>-8.510</td>\n",
       "      <td>1</td>\n",
       "    </tr>\n",
       "  </tbody>\n",
       "</table>\n",
       "</div>"
      ],
      "text/plain": [
       "       0      1      2       3      4      5      6      7      8       9  10\n",
       "0  4.115  5.020 -7.879 -11.780  2.004 -0.353 -0.735  3.561  2.441  -9.822   1\n",
       "1 -3.557  0.997  2.932   7.672  5.430 -0.137  1.635 -5.190 -0.394  -7.667   1\n",
       "2  6.417  5.878  5.066  -7.209 -6.953  7.639 -2.937 -1.023  3.963 -11.069   1\n",
       "3 -2.247  6.532  6.437   2.293  6.302  2.187  3.429 -3.453  9.172  -4.548   1\n",
       "4  3.708  5.834  3.676  -4.403 -5.296  9.080 -3.110 -3.294  3.189  -8.510   1"
      ]
     },
     "execution_count": 442,
     "metadata": {},
     "output_type": "execute_result"
    }
   ],
   "source": [
    "df.head()"
   ]
  },
  {
   "cell_type": "code",
   "execution_count": 445,
   "metadata": {},
   "outputs": [],
   "source": [
    "outputANS = df[df.index == index].sort_values(by=index,axis=1,ascending=True)"
   ]
  },
  {
   "cell_type": "code",
   "execution_count": 447,
   "metadata": {},
   "outputs": [],
   "source": [
    "outputANS.to_csv('./ans1.txt', sep=',',header=0,index = 0) #不保留欄位名稱是header,不保留列的index才是index"
   ]
  },
  {
   "cell_type": "code",
   "execution_count": 446,
   "metadata": {},
   "outputs": [
    {
     "data": {
      "text/html": [
       "<div>\n",
       "<style scoped>\n",
       "    .dataframe tbody tr th:only-of-type {\n",
       "        vertical-align: middle;\n",
       "    }\n",
       "\n",
       "    .dataframe tbody tr th {\n",
       "        vertical-align: top;\n",
       "    }\n",
       "\n",
       "    .dataframe thead th {\n",
       "        text-align: right;\n",
       "    }\n",
       "</style>\n",
       "<table border=\"1\" class=\"dataframe\">\n",
       "  <thead>\n",
       "    <tr style=\"text-align: right;\">\n",
       "      <th></th>\n",
       "      <th>9</th>\n",
       "      <th>7</th>\n",
       "      <th>0</th>\n",
       "      <th>8</th>\n",
       "      <th>5</th>\n",
       "      <th>1</th>\n",
       "      <th>10</th>\n",
       "      <th>6</th>\n",
       "      <th>2</th>\n",
       "      <th>4</th>\n",
       "      <th>3</th>\n",
       "    </tr>\n",
       "  </thead>\n",
       "  <tbody>\n",
       "    <tr>\n",
       "      <th>1</th>\n",
       "      <td>-7.667</td>\n",
       "      <td>-5.19</td>\n",
       "      <td>-3.557</td>\n",
       "      <td>-0.394</td>\n",
       "      <td>-0.137</td>\n",
       "      <td>0.997</td>\n",
       "      <td>1</td>\n",
       "      <td>1.635</td>\n",
       "      <td>2.932</td>\n",
       "      <td>5.43</td>\n",
       "      <td>7.672</td>\n",
       "    </tr>\n",
       "  </tbody>\n",
       "</table>\n",
       "</div>"
      ],
      "text/plain": [
       "       9     7      0      8      5      1  10      6      2     4      3\n",
       "1 -7.667 -5.19 -3.557 -0.394 -0.137  0.997   1  1.635  2.932  5.43  7.672"
      ]
     },
     "execution_count": 446,
     "metadata": {},
     "output_type": "execute_result"
    }
   ],
   "source": [
    "outputANS"
   ]
  },
  {
   "cell_type": "code",
   "execution_count": null,
   "metadata": {},
   "outputs": [],
   "source": []
  },
  {
   "cell_type": "code",
   "execution_count": null,
   "metadata": {},
   "outputs": [],
   "source": []
  },
  {
   "cell_type": "code",
   "execution_count": null,
   "metadata": {},
   "outputs": [],
   "source": []
  },
  {
   "cell_type": "code",
   "execution_count": null,
   "metadata": {},
   "outputs": [],
   "source": []
  }
 ],
 "metadata": {
  "kernelspec": {
   "display_name": "Python 3",
   "language": "python",
   "name": "python3"
  },
  "language_info": {
   "codemirror_mode": {
    "name": "ipython",
    "version": 3
   },
   "file_extension": ".py",
   "mimetype": "text/x-python",
   "name": "python",
   "nbconvert_exporter": "python",
   "pygments_lexer": "ipython3",
   "version": "3.7.6"
  }
 },
 "nbformat": 4,
 "nbformat_minor": 4
}
